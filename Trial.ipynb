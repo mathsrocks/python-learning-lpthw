{
 "metadata": {
  "name": "",
  "signature": "sha256:24d79a1cba4cc0eff8b6f6e5f22d19db7fb8796d17328e6128f4f893b0e690af"
 },
 "nbformat": 3,
 "nbformat_minor": 0,
 "worksheets": [
  {
   "cells": [
    {
     "cell_type": "code",
     "collapsed": false,
     "input": [
      "print(\"Hello world\")"
     ],
     "language": "python",
     "metadata": {},
     "outputs": [
      {
       "output_type": "stream",
       "stream": "stdout",
       "text": [
        "Hello world\n"
       ]
      }
     ],
     "prompt_number": 1
    },
    {
     "cell_type": "code",
     "collapsed": false,
     "input": [
      "shopping_list = [\"bananas\", \"carrots\", \"tea\"]"
     ],
     "language": "python",
     "metadata": {},
     "outputs": [],
     "prompt_number": 3
    },
    {
     "cell_type": "code",
     "collapsed": false,
     "input": [
      "print(shopping_list)"
     ],
     "language": "python",
     "metadata": {},
     "outputs": [
      {
       "output_type": "stream",
       "stream": "stdout",
       "text": [
        "['bananas', 'carrots', 'tea']\n"
       ]
      }
     ],
     "prompt_number": 4
    },
    {
     "cell_type": "code",
     "collapsed": false,
     "input": [
      "%load \"ex6.py\""
     ],
     "language": "python",
     "metadata": {},
     "outputs": [],
     "prompt_number": 5
    },
    {
     "cell_type": "code",
     "collapsed": false,
     "input": [
      "x = \"There are %d types of people.\" % 10\n",
      "binary = \"binary\"\n",
      "do_not = \"don't\"\n",
      "# list of variables/placeholders\n",
      "y = \"Those who know %s and those who %s.\" % (binary, do_not)\n",
      "\n",
      "print x\n",
      "print y\n",
      "\n",
      "print \"I said: %r.\" % x\n",
      "print \"I also said: '%s'.\" %y\n",
      "\n",
      "hilarious = False\n",
      "joke_evaluation = \"Isn't that joke so funny?! %r\"\n",
      "\n",
      "print joke_evaluation % hilarious\n",
      "\n",
      "w = \"This is the left side of...\"\n",
      "e = \"a string with a right side.\"\n",
      "\n",
      "# + overloaded\n",
      "print w + e\n",
      "\n",
      "### Common Student Questions\n",
      "## What is the difference between %r and %s?\n"
     ],
     "language": "python",
     "metadata": {},
     "outputs": []
    },
    {
     "cell_type": "code",
     "collapsed": false,
     "input": [
      "%run \"ex6.py\""
     ],
     "language": "python",
     "metadata": {},
     "outputs": [
      {
       "output_type": "stream",
       "stream": "stdout",
       "text": [
        "There are 10 types of people.\n",
        "Those who know binary and those who don't.\n",
        "I said: 'There are 10 types of people.'.\n",
        "I also said: 'Those who know binary and those who don't.'.\n",
        "Isn't that joke so funny?! False\n",
        "This is the left side of...a string with a right side.\n"
       ]
      }
     ],
     "prompt_number": 6
    },
    {
     "cell_type": "code",
     "collapsed": false,
     "input": [
      "range?"
     ],
     "language": "python",
     "metadata": {},
     "outputs": [],
     "prompt_number": 7
    },
    {
     "cell_type": "markdown",
     "metadata": {},
     "source": [
      "#Markdown"
     ]
    },
    {
     "cell_type": "code",
     "collapsed": false,
     "input": [
      "!ls"
     ],
     "language": "python",
     "metadata": {},
     "outputs": [
      {
       "output_type": "stream",
       "stream": "stdout",
       "text": [
        "ex1.py\tex3_2.py  ex4_2.py  ex5_2.py  ex6.py\t Untitled0.ipynb\r\n",
        "ex2.py\tex3.py\t  ex4.py    ex5.py    textbooks\r\n"
       ]
      }
     ],
     "prompt_number": 10
    },
    {
     "cell_type": "code",
     "collapsed": false,
     "input": [],
     "language": "python",
     "metadata": {},
     "outputs": []
    }
   ],
   "metadata": {}
  }
 ]
}