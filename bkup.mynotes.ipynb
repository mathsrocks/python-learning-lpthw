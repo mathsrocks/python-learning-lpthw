{
 "cells": [
  {
   "cell_type": "markdown",
   "metadata": {},
   "source": [
    "## Exercise 6: Strings and Text"
   ]
  },
  {
   "cell_type": "markdown",
   "metadata": {},
   "source": [
    "# Learn Python the Hard Way, 3rd Edition"
   ]
  },
  {
   "cell_type": "markdown",
   "metadata": {},
   "source": [
    "__What is the difference between %r and %s?__\n",
    "\n",
    "Use the `%r` for debugging, since it displays the \"raw\" data of the variable, but the others are used for displaying purposes."
   ]
  },
  {
   "cell_type": "markdown",
   "metadata": {},
   "source": [
    "__Why do you put ' (single-quotes) around some strings and not others?__\n",
    "\n",
    "Mostly it's a matter of style, but the author uses a single-quote inside a string that has double-quotes."
   ]
  },
  {
   "cell_type": "markdown",
   "metadata": {},
   "source": [
    "## Exercise 7: More Printing"
   ]
  },
  {
   "cell_type": "markdown",
   "metadata": {},
   "source": [
    "__Can I use single-quotes or double-quotes to make a string or do they do different things?__\n",
    "\n",
    "In Python eigher way to make a string is acceptable although typically we'll use singl-quotes for any short strings like 'a' or 'snow'."
   ]
  },
  {
   "cell_type": "markdown",
   "metadata": {},
   "source": [
    "__What effect does a comma have in a print statement?__\n",
    "\n",
    "It prints a space."
   ]
  },
  {
   "cell_type": "markdown",
   "metadata": {},
   "source": [
    "## Exercise 8: Printing, Printing"
   ]
  },
  {
   "cell_type": "markdown",
   "metadata": {},
   "source": [
    "__Should I use %s or %r for formatting?__\n",
    "\n",
    "You should use `%s` and only use `%r` for getting debugging information about something. The `%r` will give you the \"raw programmer's\" version of variable, also known as the \"representation.\""
   ]
  },
  {
   "cell_type": "markdown",
   "metadata": {},
   "source": [
    "__Why do I have to put quotes around \"one\" but not around True or False?__\n",
    "\n",
    "Python recognizes `True` and `False` as _keywords_ representing the concept of true and false. If you put quotes around them then they are turned into strings and won't work. You'll learn more about how these work in Exercise 27."
   ]
  },
  {
   "cell_type": "markdown",
   "metadata": {},
   "source": [
    "__Why does %r sometimes print things with single-quotes when I wrote them with double-quotes?__\n",
    "\n",
    "Python is going to print the strings in the most efficient way it can, not replicate exactly the way you wrote them. This is perfectly fine since `%r` is used for debugging and inspection, so it's not necessary that it be pretty."
   ]
  },
  {
   "cell_type": "markdown",
   "metadata": {},
   "source": [
    "## Excercise 9: Printing, Printing, Printing"
   ]
  },
  {
   "cell_type": "markdown",
   "metadata": {},
   "source": [
    "__Why do the `\\n` newlines not work when I use `%r`?__\n",
    "\n",
    "That's how `%r` formatting works; it prints it the way you wrote it (or close to it). It's the \"__raw__\" format for _debugging_."
   ]
  },
  {
   "cell_type": "markdown",
   "metadata": {},
   "source": [
    "__Why do I get an error when I put spaces between the three double-quotes?__\n",
    "\n",
    "You have to type them like `\"\"\"` and not `\" \" \"`, meaning with _no_ spaces between each one."
   ]
  },
  {
   "cell_type": "markdown",
   "metadata": {},
   "source": [
    "## Exercise 10: What Was That?"
   ]
  },
  {
   "cell_type": "markdown",
   "metadata": {},
   "source": [
    "There are two ways to make a string that goes across multiple lines:\n",
    "\n",
    "1. Using the characters `\\n` (backslash n).\n",
    "2. Using triple-quotes, which is just `\"\"\"`.\n",
    "\n",
    "This `\\` (backslash) character encodes difficult-to-type characters into a string. There are various \"escape sequences\" available for different characters you might want to use.\n",
    "\n",
    "The triple-quotes work like a string, but you also can put as many lines of text as you want until you type `\"\"\"` again."
   ]
  },
  {
   "cell_type": "markdown",
   "metadata": {},
   "source": [
    "__When I use a `%r` format none of the escape sequences work.__\n",
    "\n",
    "That's because `%r` is printing out the __raw__ representation of what you typed, which is going to include the _original escape sequences_. Use `%s` instead. Always remember this: \n",
    "\n",
    "* `%r` is for _debugging_\n",
    "* `%s` is for _displaying_"
   ]
  },
  {
   "cell_type": "markdown",
   "metadata": {},
   "source": [
    "__What's better, `'''` or `\"\"\"`?__\n",
    "\n",
    "It's entirely based on style. Go with the `'''` (triple-single-quote) style for now but be ready to use either depending on what feels best or what everyone else is doing."
   ]
  },
  {
   "cell_type": "markdown",
   "metadata": {},
   "source": [
    "## Exercise 11: Asking Questions"
   ]
  },
  {
   "cell_type": "markdown",
   "metadata": {},
   "source": [
    "The author puts a `,` (comma) at the end of each print line. This is so print doesn't end the line with a newline character and go to the next line. In Python 3, the `print` statement has been changed into a _function_ so we can instead do:"
   ]
  },
  {
   "cell_type": "code",
   "execution_count": 3,
   "metadata": {
    "collapsed": false
   },
   "outputs": [
    {
     "name": "stdout",
     "output_type": "stream",
     "text": [
      "."
     ]
    }
   ],
   "source": [
    "print(\".\", end = \"\")"
   ]
  },
  {
   "cell_type": "markdown",
   "metadata": {},
   "source": [
    "### Study Drills"
   ]
  },
  {
   "cell_type": "markdown",
   "metadata": {},
   "source": [
    "__See how the single-quote needs to be escaped because otherwise it would end the string?__"
   ]
  },
  {
   "cell_type": "markdown",
   "metadata": {},
   "source": [
    "### Common Student Questions"
   ]
  },
  {
   "cell_type": "markdown",
   "metadata": {},
   "source": [
    "__How do I get a number from someone so I can do math?__\n",
    "\n",
    "That's a little advanced, but try"
   ]
  },
  {
   "cell_type": "code",
   "execution_count": null,
   "metadata": {
    "collapsed": false
   },
   "outputs": [],
   "source": []
  }
 ],
 "metadata": {
  "kernelspec": {
   "display_name": "Python 2",
   "language": "python",
   "name": "python2"
  },
  "language_info": {
   "codemirror_mode": {
    "name": "ipython",
    "version": 2
   },
   "file_extension": ".py",
   "mimetype": "text/x-python",
   "name": "python",
   "nbconvert_exporter": "python",
   "pygments_lexer": "ipython2",
   "version": "2.7.6"
  }
 },
 "nbformat": 4,
 "nbformat_minor": 0
}
